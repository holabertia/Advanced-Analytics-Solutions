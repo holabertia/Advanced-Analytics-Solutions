{
 "cells": [
  {
   "cell_type": "markdown",
   "metadata": {},
   "source": [
    "# Análisis de Aprendizaje Reforzado\n",
    "\n",
    "En el presente artículo analizaremos de forma prática modelos de Aprendizaje Reformado, un paradigma de Machine Learning en el que un agente aprende una política óptima para interactuar con un entorno. Bien, a través de un proceso de prueba y error, el agente observa estados, toma acciones y recibe recompensas que refuerzan o penalizan sus decisiones. El objetivo es maximizar la recompensa acumulada a lo largo del tiempo, utilizando técnicas como programación dinámica, métodos Monte Carlo o aprendizaje Q (Q-Learning)."
   ]
  },
  {
   "cell_type": "markdown",
   "metadata": {},
   "source": [
    "<section style=\"width: 100%;\"> \n",
    "\t<div style=\"width: 50%; float: left; border-radius: 10px;\"> \n",
    "        Para ver un caso práctico de aprendizaje reforzado, usaremos la liberia de <code>gymnasium</code> que incluye diferentes juegos donde se puede usar este tipo de aprendizajes. En este caso nos centraremos en el algoritmo de <em>Q-learning</em> así que nos va bien <a href=\"https://gymnasium.farama.org/environments/toy_text/frozen_lake/\">frozen lake</a>.<br>\n",
    "\t\tEste consiste en que el agente tiene que llegar al regalo para ganar la partida. <br>\n",
    "\t\tTiene cuatro acciones para hacerlo:\n",
    "\t\t<ul>\n",
    "\t\t\t<li> 0: mover izquierda\n",
    "\t\t\t<li> 1: mover abajo\n",
    "\t\t\t<li> 2: mover derecha\n",
    "\t\t\t<li> 3: mover arriba\n",
    "\t\t</ul>\n",
    "\t\tEl espacio con el que se cuenta se puede ver en la imagen a la derecha, donde tenemos una cuadricula 4x4, donde nuestro agente comienza en la casilla (0,0) y su casilla objectivo esta en (3,3). <br>\n",
    "\t\tLa partida acaba cuando llega a la casilla objetivo o a una de lago.\n",
    "\t</div> <div style=\"width: 50%; float: left;\">\n",
    "\t\t<img src=\"https://gymnasium.farama.org/_images/frozen_lake.gif\" />\n",
    "\t </div>\n",
    "</section>"
   ]
  },
  {
   "cell_type": "markdown",
   "metadata": {},
   "source": [
    "¡Comenzamos!"
   ]
  },
  {
   "cell_type": "markdown",
   "metadata": {},
   "source": [
    "## 1 Importación de librerías y paquetes"
   ]
  },
  {
   "cell_type": "code",
   "execution_count": 99,
   "metadata": {},
   "outputs": [],
   "source": [
    "import numpy as np\n",
    "import gymnasium as gym\n",
    "from gymnasium import RewardWrapper\n",
    "import random\n",
    "\n",
    "import warnings\n",
    "warnings.filterwarnings(\"ignore\") "
   ]
  },
  {
   "cell_type": "markdown",
   "metadata": {},
   "source": [
    "## 2 Inicialización del entorno y de los datos\n",
    "\n",
    "### 2.1 Entornos de trabajo\n",
    "\n",
    "Inicializamos los entornos de entranmiento (env_train) y pruebas (env_test) de FrozenLake usando la biblioteca Gym. De esta manera, podremos entrenar al agente en un entorno más desafiante (con deslizamiento) y luego probarlo mientras se observa su rendimiento en tiempo real. "
   ]
  },
  {
   "cell_type": "code",
   "execution_count": 100,
   "metadata": {},
   "outputs": [],
   "source": [
    "env_train = gym.make('FrozenLake-v1', is_slippery=True)\n",
    "env_test = gym.make('FrozenLake-v1', render_mode='human')"
   ]
  },
  {
   "cell_type": "markdown",
   "metadata": {},
   "source": [
    "### 2.2 Q-Table\n",
    "\n",
    "A continuación, definiremos una Q-Table, también denominada tabla Q, la cual compone una estructura de datos fundamental en el aprendizaje por refuerzo, utilizada en algoritmos como el Q-Learning. Representa una matriz que almacena los valores Q, que indican la calidad o utilidad esperada de realizar una acción en un estado determinado, basándose en la recompensa acumulada futura esperada.\n",
    "\n",
    "En una tabla Q (Q-table) cada columna representa cada una de las acciones y las filas son los estados posibles del entorno. Cada celda contiene el valor Q, que representa la calidad de la acción para llegar al objetivo."
   ]
  },
  {
   "cell_type": "code",
   "execution_count": 101,
   "metadata": {},
   "outputs": [],
   "source": [
    "action_size = env_train.action_space.n\n",
    "state_size = env_train.observation_space.n"
   ]
  },
  {
   "cell_type": "code",
   "execution_count": 102,
   "metadata": {},
   "outputs": [
    {
     "name": "stdout",
     "output_type": "stream",
     "text": [
      "[[0. 0. 0. 0.]\n",
      " [0. 0. 0. 0.]\n",
      " [0. 0. 0. 0.]\n",
      " [0. 0. 0. 0.]\n",
      " [0. 0. 0. 0.]\n",
      " [0. 0. 0. 0.]\n",
      " [0. 0. 0. 0.]\n",
      " [0. 0. 0. 0.]\n",
      " [0. 0. 0. 0.]\n",
      " [0. 0. 0. 0.]\n",
      " [0. 0. 0. 0.]\n",
      " [0. 0. 0. 0.]\n",
      " [0. 0. 0. 0.]\n",
      " [0. 0. 0. 0.]\n",
      " [0. 0. 0. 0.]\n",
      " [0. 0. 0. 0.]]\n"
     ]
    }
   ],
   "source": [
    "q_table = np.zeros((state_size, action_size))\n",
    "print(q_table)"
   ]
  },
  {
   "cell_type": "markdown",
   "metadata": {},
   "source": [
    "### 2.3 Rewards\n",
    "\n",
    "Como último paso definiremos la recompensa, un valor numérico que el agente recibe después de tomar una acción en un entorno. Por lo tanto, sirve como retroalimentación para indicar qué tan buena o mala fue esa acción en función del objetivo del agente. La recompensa es un punto clave del proceso de aprendizaje del agente, ya que lo va guiando ayudándole a descubrir una política óptima (la mejor manera de actuar en cada estado).\n",
    "\n",
    "La recompensa la modificaremos manualmente para dar peso a cuando llega al estado objetivo, cuando cae en un lago o cuando cae en una casilla neutra. Como queremos remarcar que llegue al objetivo, le daremos a este el valor más alto, al lago el más bajo ya que seria un estado donde el agente ha perdido y cada paso lo penalizaremos ligeramente para intentar evitar que de vueltas por el mapa haciendo caminos más largos.\n",
    "- Objetivo +1 punto\n",
    "- Lago -1 punto\n",
    "- Pasos -0.01 punto"
   ]
  },
  {
   "cell_type": "code",
   "execution_count": 103,
   "metadata": {},
   "outputs": [],
   "source": [
    "class CustomRewardWrapper(gym.RewardWrapper):\n",
    "    def __init__(self, env):\n",
    "        super(CustomRewardWrapper, self).__init__(env)\n",
    "\n",
    "    def reward(self, reward):\n",
    "        current_state = self.env.s\n",
    "\n",
    "        if current_state == 15:  # objetivo\n",
    "            return 1\n",
    "        elif current_state in [5, 7, 11, 12]:  # lago\n",
    "            return -1\n",
    "        else:  # pasos\n",
    "            return -0.001\n",
    "        \n",
    "env_train = CustomRewardWrapper(env_train)\n",
    "env_test = CustomRewardWrapper(env_test)"
   ]
  },
  {
   "cell_type": "markdown",
   "metadata": {},
   "source": [
    "# 3. Algoritmo Q-Learning\n",
    "\n",
    "Aplicaremos en este artículo Q-Learning, un algoritmo de aprendizaje por refuerzo que permite a un agente aprender una política óptima mediante la actualización iterativa de una Q-Table. Este modelo evalúa el valor de cada acción en un estado específico, maximizando la recompensa acumulada a largo plazo sin requerir un modelo explícito del entorno.\n",
    "\n",
    "Para aplicar dicho modelo, primero es necesario definir una serie de parámetros generales y de exploración, los cuales equilibran el aprendizaje y la toma de decisiones del agente, asegurando un proceso eficiente de exploración y explotación del entorno para encontrar una política óptima.\n",
    "\n",
    "Mostramos a continuación una imagen de la formula del algoritmo Q-Learning para analizar el impacto de cada parámetro en el resultado final que se espera obtener:\n",
    "\n",
    "![](https://wikimedia.org/api/rest_v1/media/math/render/svg/a3a4d2ac903b1be02cc81e60de2e9f91d7025fec)"
   ]
  },
  {
   "cell_type": "code",
   "execution_count": 104,
   "metadata": {},
   "outputs": [],
   "source": [
    "# Parametros generales\n",
    "total_episodes = 50000        # Episodios totales\n",
    "learning_rate = 0.1           # Learning rate\n",
    "max_steps = 99                # Pasos maximos por episodio\n",
    "gamma = 0.95                  # Tasa de descuento\n",
    "\n",
    "# Parametros de exploración\n",
    "epsilon = 1.0                 # Tasa de exploración\n",
    "max_epsilon = 1.0             # Probabilidad de explorar al empezar\n",
    "min_epsilon = 0.01             # Probabilidad minima de explorar \n",
    "decay_rate = 0.1              # Tasa de decaimiento exponencial de la probabilidad de exploración"
   ]
  },
  {
   "cell_type": "markdown",
   "metadata": {},
   "source": [
    "Una vez definidos los parámetros generales y de exploración, procedemos a aplicar el modelo Q-Learning y proceder con su entrenamiento a través del entorno de entrenamiento (env_train)."
   ]
  },
  {
   "cell_type": "code",
   "execution_count": 105,
   "metadata": {},
   "outputs": [
    {
     "name": "stderr",
     "output_type": "stream",
     "text": [
      "c:\\Users\\ItziarBeltrán\\AppData\\Local\\Programs\\Python\\Python312\\Lib\\site-packages\\gymnasium\\core.py:311: UserWarning: \u001b[33mWARN: env.s to get variables from other wrappers is deprecated and will be removed in v1.0, to get this variable you can do `env.unwrapped.s` for environment variables or `env.get_wrapper_attr('s')` that will search the reminding wrappers.\u001b[0m\n",
      "  logger.warn(\n"
     ]
    },
    {
     "name": "stdout",
     "output_type": "stream",
     "text": [
      "Percent of episodes finished successfully: 0.6784\n",
      "Percent of episodes finished successfully (last 100 episodes): 0.85\n",
      "Average number of steps: 42.13\n",
      "Average number of steps (last 100 episodes): 37.75\n",
      "\n",
      "\n",
      "[[ 0.16505576  0.10277994  0.10703715  0.10156425]\n",
      " [-0.4631853  -0.13827121 -0.35835138  0.12617303]\n",
      " [-0.0958954  -0.10650311 -0.05471993  0.07700647]\n",
      " [-0.31985536 -0.36783999 -0.39311632  0.05792307]\n",
      " [ 0.20617691 -0.17360392 -0.25965201 -0.22556987]\n",
      " [ 0.          0.          0.          0.        ]\n",
      " [-0.17058754 -0.8757725  -0.58728547 -0.80912761]\n",
      " [ 0.          0.          0.          0.        ]\n",
      " [-0.48599892 -0.09088943 -0.1421675   0.29816392]\n",
      " [-0.36968997  0.40616224  0.09429557 -0.1546459 ]\n",
      " [ 0.40139892 -0.02576719 -0.26023361 -0.307892  ]\n",
      " [ 0.          0.          0.          0.        ]\n",
      " [ 0.          0.          0.          0.        ]\n",
      " [ 0.05670133  0.15570846  0.50241645 -0.22432838]\n",
      " [ 0.42207589  0.78418118  0.45096986  0.44133627]\n",
      " [ 0.          0.          0.          0.        ]]\n",
      "0.01\n"
     ]
    }
   ],
   "source": [
    "rewards = []\n",
    "steps = []\n",
    "finished = []\n",
    "\n",
    "for episode in range(total_episodes):\n",
    "    # Reiniciar el entorno\n",
    "    state, info = env_train.reset()\n",
    "    step = 0\n",
    "    total_rewards = 0\n",
    "    \n",
    "    for step in range(max_steps):\n",
    "        # Elegir una acción a en el estado actual del mundo (s)\n",
    "        ## Primero, aleatorizamos un número\n",
    "        exp_exp_tradeoff = random.uniform(0, 1)\n",
    "        \n",
    "        ## Si este número > mayor que epsilon --> explotación (tomando el valor Q más alto para este estado)\n",
    "        if exp_exp_tradeoff > epsilon:\n",
    "            action = np.argmax(q_table[state,:])\n",
    "\n",
    "        # De lo contrario, hacer una elección aleatoria --> exploración\n",
    "        else:\n",
    "            action = env_train.action_space.sample()\n",
    "\n",
    "        # Tomar la acción (a) y observar el estado resultante (s') y la recompensa (r)\n",
    "        new_state, reward, terminated, truncated, info = env_train.step(action)\n",
    "\n",
    "        # Actualizar Q(s,a):= Q(s,a) + lr [R(s,a) + gamma * max Q(s',a') - Q(s,a)]\n",
    "        # q_table[new_state,:] : todas las acciones que podemos tomar desde el nuevo estado\n",
    "        q_table[state, action] = q_table[state, action] + learning_rate * (reward + gamma * np.max(q_table[new_state, :]) - q_table[state, action])\n",
    "        \n",
    "        total_rewards = total_rewards + reward\n",
    "        \n",
    "        # Nuestro nuevo estado es state\n",
    "        state = new_state\n",
    "        \n",
    "        # Si ha terminado (si morimos): finalizar episodio\n",
    "        if truncated or terminated: \n",
    "            finished.append(reward > 0)\n",
    "            break\n",
    "        \n",
    "    episode += 1\n",
    "    steps.append(step)\n",
    "    # Reducir epsilon (porque necesitamos cada vez menos exploración)\n",
    "    epsilon = min_epsilon + (max_epsilon - min_epsilon)*np.exp(-decay_rate*episode) \n",
    "    rewards.append(total_rewards)\n",
    "\n",
    "\n",
    "\n",
    "print(\"Percent of episodes finished successfully: {0}\".format(sum(finished)/(total_episodes)))\n",
    "print(\"Percent of episodes finished successfully (last 100 episodes): {0}\".format(sum(finished[-100:])/(100)))\n",
    "print(\"Average number of steps: %.2f\" % (sum(steps)/(total_episodes)))\n",
    "print(\"Average number of steps (last 100 episodes): %.2f\" % (sum(steps[-100:])/(100)))\n",
    "print('\\n')\n",
    "print(q_table)\n",
    "print(epsilon)"
   ]
  },
  {
   "cell_type": "markdown",
   "metadata": {},
   "source": [
    "Tras el entrenamiento, podemos ver que en los ultimo episodeos hay una mejora del rendimiento donde el porcentaje de finalización es del 67.78% pero sin embargo de los 100 últimos, un 85% ha acabado em el objetivo final. Además, también hay una reducción media de los pasos, por lo tanto esta aprendiendo a llegar al objetivo y además reduciendo camino. Si modificamos los parametros, podriamos reducir los pasos y aumentar los casos de exito. \n",
    "\n",
    "Os invitamos a probar convinaciones que den un resulatado mejor que este!"
   ]
  },
  {
   "cell_type": "markdown",
   "metadata": {},
   "source": [
    "## 5 Resultados\n",
    "\n",
    "Por último, procedemos a realizar pruebas en el entorno de test (env_test) utilizando la Q-Table previamente generada. Por lo tanto, evaluaremos el desempeño del agente observando cómo comporta en el entorno después del entrenamiento en condiciones reales de prueba, utilizando la política óptima almacenada en la Q-Table.\n",
    "\n",
    "Realizaremos las pruebas validando el comportamiento del agente en un total de 5 episodios  5 de prueba, imprimiendo detalles del progreso en cada uno, donde esperamos que la recompense incremente según se vayan consumiendo los intentos (episodios).\n",
    "\n",
    "Nota: Al ejecutar la siguiente celda podremos ver de foma visual el rendimiento de nuestro algoritmo en una nueva ventana emergente."
   ]
  },
  {
   "cell_type": "code",
   "execution_count": 106,
   "metadata": {},
   "outputs": [
    {
     "name": "stdout",
     "output_type": "stream",
     "text": [
      "****************************************************\n",
      "EPISODE  0\n",
      "****************************************************\n",
      "EPISODE  1\n",
      "Number of steps 40\n",
      "Reward:  0.96\n",
      "****************************************************\n",
      "EPISODE  2\n",
      "Number of steps 31\n",
      "Reward:  0.969\n",
      "****************************************************\n",
      "EPISODE  3\n",
      "Number of steps 21\n",
      "Reward:  0.979\n",
      "****************************************************\n",
      "EPISODE  4\n",
      "Number of steps 26\n",
      "Reward:  0.974\n"
     ]
    }
   ],
   "source": [
    "env_test.reset()\n",
    "\n",
    "for episode in range(5):\n",
    "    state, info = env_test.reset()\n",
    "    step = 0\n",
    "    total_reward = 0\n",
    "    print(\"****************************************************\")\n",
    "    print(\"EPISODE \", episode)\n",
    "\n",
    "    for step in range(max_steps):\n",
    "        action = np.argmax(q_table[state,:])\n",
    "        \n",
    "        new_state, reward, terminated, truncated, info = env_test.step(action)\n",
    "        \n",
    "        total_reward += reward\n",
    "        if terminated or truncated:       \n",
    "            print(\"Number of steps\", step)\n",
    "            print(\"Reward: \", total_reward)\n",
    "            break\n",
    "\n",
    "        state = new_state\n",
    "env_test.close()"
   ]
  },
  {
   "cell_type": "markdown",
   "metadata": {},
   "source": [
    "Una vez ejecutado el código, se observa que el agente ha aprendido una política razonablemente buena, pero analicemos los detalles para determinar su calidad.\n",
    "\n",
    "Por una parte, se han obtenido <strong><u>recompensas altas</u></strong> en cada episodio (0.96, 0.969, 0.979, 0.974), ya que se tratan de valores cercanos de 1, lo que sugiere que el agente está cumpliendo con su objetivo de maximizar la recompensa acumulada. Esto es un indicador positivo de que ha aprendido a navegar el entorno correctamente.\n",
    "\n",
    "Por otra parte, el <strong><u>número de pasos es razonable</u></strong> para completar el entorno de pruebas, además de que presentan valores decrecientes según el avance de los episodios (40, 31, 21, 26). Aunque no hay un patrón completamente consistente, el agente parece necesitar menos pasos en episodios posteriores para alcanzar el objetivo, lo que sugiere una mejora en su eficiencia.\n",
    "\n",
    "Por lo tanto, se observa que los resultados del modelo son buenos y reflejan un aprendizaje efectivo del agente.\n",
    "\n",
    "\n",
    "\n",
    "#### ¡Muchas gracias por leer!"
   ]
  }
 ],
 "metadata": {
  "kernelspec": {
   "display_name": "Python 3 (ipykernel)",
   "language": "python",
   "name": "python3"
  },
  "language_info": {
   "codemirror_mode": {
    "name": "ipython",
    "version": 3
   },
   "file_extension": ".py",
   "mimetype": "text/x-python",
   "name": "python",
   "nbconvert_exporter": "python",
   "pygments_lexer": "ipython3",
   "version": "3.12.0"
  }
 },
 "nbformat": 4,
 "nbformat_minor": 4
}
