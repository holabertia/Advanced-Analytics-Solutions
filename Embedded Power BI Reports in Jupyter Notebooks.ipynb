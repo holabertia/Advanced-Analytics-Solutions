{
 "cells": [
  {
   "cell_type": "markdown",
   "id": "0e92ccc7",
   "metadata": {},
   "source": [
    "# Embedded Power BI Reports in Jupyter Notebooks"
   ]
  },
  {
   "cell_type": "markdown",
   "id": "a861c354",
   "metadata": {},
   "source": [
    "## Objetivos del Notebook\n",
    "\n",
    "El propósito del siguiente Notebook es aprender cómo incrustar e interactuar con informes creados en Power BI en el entorno web de Jupyter Notebook.\n",
    "\n",
    "Esta es una buena práctica si queremos que el trabajo que realizan los diseñadores de informes sea inmediatamente utilizable por los analistas que se sienten cómodos usando Jupyter Notebooks. Además, podemos exportar datos de los visuales del informe a Jupyter Notebook para una exploración de datos en profundidad.\n",
    "\n",
    "Por lo tanto, incrustaremos un informe creado en Power BI Desktop dónde se analizan una serie de variables que influyen en la calidad del vino, tanto blanco como rojo.\n",
    "\n",
    "Puede ver los datos de origen utilizados para el informe en el siguiente enlace:\n",
    "\n",
    "<a href=\"https://www.kaggle.com/code/danielpanizzo/red-and-white-wine-quality/data\">Kaggle Red and White Wine Quality</a>\n",
    "\n",
    "El informe que queremos incrustar en Jupyter Notebook publicado en Power BI es el siguiente:\n",
    "\n",
    "<a href=\"https://app.powerbi.com/groups/b04d2fda-2591-4667-8476-30948e3d3635/reports/676251a6-4a9f-40b8-8227-6e1eac46e9f4/ReportSection\">Report Análisis Calidad Vino</a>\n",
    "\n",
    "Para ello, intentaremos seguir los siguientes pasos propuestos por la comunidad microsoft power bi:\n",
    "\n",
    "<img src=\"embed powerbi reports in jupyter notebooks.png\">\n",
    "\n",
    "¡Empezamos!"
   ]
  },
  {
   "cell_type": "markdown",
   "id": "bd7eb703",
   "metadata": {},
   "source": [
    "## 1 Importar Librerías Requeridas\n",
    "\n",
    "Iniciamos el proceso instalando la librería **powerbiclient** para importar las clases y modelos que necesitamos."
   ]
  },
  {
   "cell_type": "code",
   "execution_count": null,
   "id": "2a2e71e1",
   "metadata": {},
   "outputs": [],
   "source": [
    "##Install the powerbiclient library\n",
    "!pip install powerbiclient"
   ]
  },
  {
   "cell_type": "markdown",
   "id": "94e853fe",
   "metadata": {},
   "source": [
    "Instalamos otras librerías que necesitaremos para el posterior análisis de los datos."
   ]
  },
  {
   "cell_type": "code",
   "execution_count": 1,
   "id": "04f2e09f",
   "metadata": {},
   "outputs": [],
   "source": [
    "##Import the requiered powerbicliente class and models from the packages\n",
    "from powerbiclient import Report, models\n",
    "\n",
    "# Import the DeviceCodeLoginAuthentication class to authenticate against Power BI\n",
    "from powerbiclient.authentication import DeviceCodeLoginAuthentication\n",
    "\n",
    "# Import packages to interact with the embeded report\n",
    "from io import StringIO #object in memory file\n",
    "from ipywidgets import interact\n",
    "import requests\n",
    "\n",
    "##Import other packages for data management and visualization\n",
    "import numpy as np\n",
    "import matplotlib.pyplot as plt\n",
    "import pandas as pd\n",
    "import seaborn as sns"
   ]
  },
  {
   "cell_type": "markdown",
   "id": "f8b3a190",
   "metadata": {},
   "source": [
    "## 2 Conectar y cargar el informe de Power BI\n",
    "\n",
    "### 2.1 Autentificarnos en Power BI utilizando el Azure AD\n",
    "\n",
    "Elegimos el método de **autenticación de flujo de dispositivos** para conectar Jupyter Notebook con nuestros informes de Power BI."
   ]
  },
  {
   "cell_type": "code",
   "execution_count": 2,
   "id": "40775d0c",
   "metadata": {},
   "outputs": [
    {
     "name": "stdout",
     "output_type": "stream",
     "text": [
      "Performing interactive authentication. Please follow the instructions on the terminal.\n",
      " To sign in, use a web browser to open the page https://microsoft.com/devicelogin and enter the code DKXXF95M7 to authenticate.\n",
      "You have logged in.\n",
      "Interactive authentication successfully completed.\n"
     ]
    }
   ],
   "source": [
    "\n",
    "# Initiate device authentication\n",
    "device_auth = DeviceCodeLoginAuthentication()\n",
    "\n"
   ]
  },
  {
   "cell_type": "markdown",
   "id": "995eebce",
   "metadata": {},
   "source": [
    "Tenemos que copiar el código de autenticación e ingresarlo en el cuadro de diálogo de autenticación del inicio de sesión de Microsoft. Luego, seleccionamos la cuenta que queremos usar para autenticar para completar el proceso de inicio de sesión.\n",
    "\n",
    "Una vez ingresadas correctamente las credenciales de la cuenta de microsoft y conectado a la plataforma Azure, aparecerá el siguiente mensaje confirmando que la autenticación fue exitosa:\n",
    "\n",
    "<img src=\"Autentification Microsfot Azure Platform.png\">\n",
    "\n",
    "En caso de que desee utilizar el método de **token de acceso**, también conocido como access token, para autenticarse en Power BI, primero debe crearlo. Para obtener más información, consulte el siguiente enlace:\n",
    "\n",
    "<a href=\"https://docs.microsoft.com/en-us/power-bi/developer/embedded/embed-tokens\">Embedded analytics application tokens</a>"
   ]
  },
  {
   "cell_type": "markdown",
   "id": "baadcff9",
   "metadata": {},
   "source": [
    "### 2.2 Establezca el ID del espacio de trabajo y el ID del informe que desea incrustar\n",
    "\n",
    "Para insertar el informe, debemos proporcionar una ID de informe (report publicado en el servicio de Power BI) y una ID de grupo (workspace del servicio de Power BI Service), que se pueden encontrar en la URL del informe que estamos insertando."
   ]
  },
  {
   "cell_type": "code",
   "execution_count": 3,
   "id": "a424c5d6",
   "metadata": {},
   "outputs": [],
   "source": [
    "#Workspace ID details\n",
    "group_id=\"b04d2fda-2591-4667-8476-30948e3d3635\"\n",
    "\n",
    "#Report ID details\n",
    "report_id=\"676251a6-4a9f-40b8-8227-6e1eac46e9f4\""
   ]
  },
  {
   "cell_type": "markdown",
   "id": "adb315f1",
   "metadata": {},
   "source": [
    "En caso de que desee saber cómo obtener el ID de área de trabajo o grupo y el ID del informe en el servicio de Power BI, consulte el siguiente enlace:\n",
    "\n",
    "<a href=\"https://docs.microsoft.com/es-es/power-bi/developer/embedded/embed-organization-app\">Inserción de un informe de Power BI en una aplicación para su organización</a>\n",
    "\n",
    "### 2.3 Cree una instancia del informe de Power BI que desee incrustar\n",
    "\n",
    "Cree el objeto del informe para insertar el informe y las imágenes de Power BI en Jupyter Notebook."
   ]
  },
  {
   "cell_type": "code",
   "execution_count": 4,
   "id": "1725c7aa",
   "metadata": {},
   "outputs": [],
   "source": [
    "#Create an instance of Power BI repor\n",
    "report = Report(group_id=group_id, report_id=report_id, auth=device_auth)\n"
   ]
  },
  {
   "cell_type": "markdown",
   "id": "bee07ddc",
   "metadata": {},
   "source": [
    "### 2.4 Establecer controladores de eventos de informe\n",
    "\n",
    "Podemos configurar algunos controladores de eventos de informes, como devolución de llamada cargada o eventos de manejo de errores."
   ]
  },
  {
   "cell_type": "code",
   "execution_count": 5,
   "id": "67baac30",
   "metadata": {},
   "outputs": [],
   "source": [
    "def loaded_callback(event_details):\n",
    "    print('The report successfully loaded.')\n",
    "    \n",
    "def error_callback(event_details):\n",
    "    print('Error.',event_details)\n",
    "    \n",
    "report.on('loaded',loaded_callback)\n",
    "report.on('error',error_callback)"
   ]
  },
  {
   "cell_type": "markdown",
   "id": "601afce2",
   "metadata": {},
   "source": [
    "### 2.5 Cargue el informe de Power BI deseado en la celda de salida\n",
    "\n",
    "Llamar al objeto de informe representa la salida del informe en Notebook.\n",
    "\n",
    "Cuando se completa el procesamiento del informe, se activa el evento de devolución de llamada cargado y el resultado de texto especificado se muestra debajo del informe."
   ]
  },
  {
   "cell_type": "code",
   "execution_count": 6,
   "id": "501acbcc",
   "metadata": {},
   "outputs": [
    {
     "data": {
      "application/vnd.jupyter.widget-view+json": {
       "model_id": "ea083f98ad104156b2ced6d3d9dbf60d",
       "version_major": 2,
       "version_minor": 0
      },
      "text/plain": [
       "Report()"
      ]
     },
     "metadata": {},
     "output_type": "display_data"
    },
    {
     "name": "stdout",
     "output_type": "stream",
     "text": [
      "The report successfully loaded.\n"
     ]
    }
   ],
   "source": [
    "\n",
    "#Show the report\n",
    "report\n"
   ]
  },
  {
   "cell_type": "markdown",
   "id": "b333d69a",
   "metadata": {},
   "source": [
    "### 2.6 Cambiar las dimensiones de un informe incrustado de Power BI\n",
    "\n",
    "Podemos ajustar el tamaño de informe incrustrado para ajustarlo a nuestro gusto.\n",
    "\n",
    "Tenga en cuanta de que los cambios los debe de visualizar en la incrustración del informe desplegada anteriormente."
   ]
  },
  {
   "cell_type": "code",
   "execution_count": 7,
   "id": "8e4add8f",
   "metadata": {},
   "outputs": [],
   "source": [
    "# Change dimensions of embedded report\n",
    "report.set_dimensions(500, 950)"
   ]
  },
  {
   "cell_type": "markdown",
   "id": "355f182f",
   "metadata": {},
   "source": [
    "## 3 Exporta datos de los visuales\n",
    "\n",
    "\n",
    "### 3.1 Obtener la página activa\n",
    "\n",
    "\n",
    "Jupyter Notebook nos permite interactuar con el informe incrustado de Power BI. Podemos usar la librería de pandas para obtener la página activa y los nombres de los gráficos que se incluyen en el informe."
   ]
  },
  {
   "cell_type": "code",
   "execution_count": 8,
   "id": "29acf9c3",
   "metadata": {},
   "outputs": [],
   "source": [
    "#Get the name of the active page of the report\n",
    "def get_active_page(self):  \n",
    "    # Get list of pages\n",
    "    pages = self.get_pages()\n",
    "    active_page = {}\n",
    "    for page in pages:  \n",
    "        # Get active page\n",
    "        if page['isActive'] == True:\n",
    "            active_page = page\n",
    "            break\n",
    "    return active_page\n",
    "\n",
    "#Define variables to get the active page name\n",
    "active_page = get_active_page(report)\n",
    "active_page_name = active_page['name']\n",
    "\n",
    "#Get list of visuals on active page\n",
    "visuals = report.visuals_on_page(active_page_name)\n",
    "\n",
    "print(visuals)"
   ]
  },
  {
   "cell_type": "markdown",
   "id": "7a3d99d7",
   "metadata": {},
   "source": [
    "### 3.2  Obtener el objeto visual cuyos datos se van a exportar"
   ]
  },
  {
   "cell_type": "code",
   "execution_count": 9,
   "id": "efe39047",
   "metadata": {},
   "outputs": [
    {
     "name": "stdout",
     "output_type": "stream",
     "text": [
      "[{'name': '31de53b1a1006441c4b6', 'title': 'Volatilidad Acidez por Calidad y Tipo Vino', 'type': 'columnChart', 'layout': {'x': 22.346627571638827, 'y': 178.9141630901289, 'z': 0, 'width': 406.52360515021456, 'height': 291.1587982832618, 'displayState': {'mode': 0}}}, {'name': '9f466516a292174e4560', 'title': 'Alcohol por Tipo Vino', 'type': 'pieChart', 'layout': {'x': 439.48497825957946, 'y': 178.5407729145292, 'z': 1000, 'width': 406.52360515021456, 'height': 291.1587982832618, 'displayState': {'mode': 0}}}, {'name': '53d34d24c7bb8aab4588', 'title': 'Cloruro por Calidad y Tipo Vino', 'type': 'donutChart', 'layout': {'x': 858.3690987124462, 'y': 178.9141630901289, 'z': 2000, 'width': 406.52360515021456, 'height': 291.1587982832618, 'displayState': {'mode': 0}}}, {'name': 'cd4c2ae4de03027b953b', 'title': 'Tabla', 'type': 'tableEx', 'layout': {'x': 15.107296137339056, 'y': 505.4077253218884, 'z': 3000, 'width': 1249.7854077253219, 'height': 214.2489270386266, 'displayState': {'mode': 0}}}, {'name': '7b865bce72a9c05c69c9', 'title': 'Cuadro de texto', 'type': 'textbox', 'layout': {'x': 326.86695278969955, 'y': 12.360515021459227, 'z': 4000, 'width': 653.7339055793991, 'height': 65.92274678111588, 'displayState': {'mode': 0}}}, {'name': '43d5ab7603cb30b1e278', 'title': 'Segmentación de datos', 'type': 'slicer', 'layout': {'x': 327.24034334764025, 'y': 93.39055793991416, 'z': 5000, 'width': 315.87982832618025, 'height': 64.54935622317596, 'displayState': {'mode': 0}}}, {'name': '654d385b46a413692a8d', 'title': 'Segmentación de datos', 'type': 'slicer', 'layout': {'x': 665.0944206008583, 'y': 93.39055793991416, 'z': 6000, 'width': 315.87982832618025, 'height': 64.54935622317596, 'displayState': {'mode': 0}}}]\n"
     ]
    }
   ],
   "source": [
    "#Define variables to get the active page name\n",
    "active_page = get_active_page(report)\n",
    "active_page_name = active_page['name']\n",
    "\n",
    "#Get list of visuals on active page\n",
    "visuals = report.visuals_on_page(active_page_name)\n",
    "\n",
    "print(visuals)"
   ]
  },
  {
   "cell_type": "code",
   "execution_count": 10,
   "id": "d858b68b",
   "metadata": {},
   "outputs": [
    {
     "name": "stdout",
     "output_type": "stream",
     "text": [
      "31de53b1a1006441c4b6\n"
     ]
    }
   ],
   "source": [
    "# Get visual whose type is 'columnChart'\n",
    "visual_columnChart = next(filter(lambda visual: visual['type'] == 'columnChart', visuals))\n",
    "visual_name_columnChart = visual_columnChart['name']\n",
    "\n",
    "print(visual_name_columnChart)"
   ]
  },
  {
   "cell_type": "code",
   "execution_count": 11,
   "id": "32d269c7",
   "metadata": {},
   "outputs": [
    {
     "name": "stdout",
     "output_type": "stream",
     "text": [
      "53d34d24c7bb8aab4588\n"
     ]
    }
   ],
   "source": [
    "# Get visual whose type is 'donutChart'\n",
    "visual_donutChart = next(filter(lambda visual: visual['type'] == 'donutChart', visuals))\n",
    "visual_name_donutChart = visual_donutChart['name']\n",
    "\n",
    "print(visual_name_donutChart)"
   ]
  },
  {
   "cell_type": "markdown",
   "id": "1bda5de7",
   "metadata": {},
   "source": [
    "### 3.3 Exportar datos resumidos desde un visual del informe incrustado"
   ]
  },
  {
   "cell_type": "code",
   "execution_count": 12,
   "id": "cd1bdd32",
   "metadata": {},
   "outputs": [
    {
     "name": "stdout",
     "output_type": "stream",
     "text": [
      "Calidad,Tipo Vino,Volatilidad Acidez\r\n",
      "Regular Malo,red,165038\r\n",
      "Regular Malo,white,129762\r\n",
      "Regular Bueno,white,31130\r\n",
      "Malo,red,17464\r\n",
      "Regular Bueno,red,15460\r\n",
      "Malo,white,11628\r\n",
      "Bueno,white,149\r\n",
      "\n"
     ]
    }
   ],
   "source": [
    "#export summary data from columnChart visual\n",
    "summarized_exported_data1 = report.export_visual_data(active_page_name, visual_name_columnChart, rows = 50)\n",
    "\n",
    "print(summarized_exported_data1)"
   ]
  },
  {
   "cell_type": "code",
   "execution_count": 13,
   "id": "ce535a6d",
   "metadata": {},
   "outputs": [
    {
     "name": "stdout",
     "output_type": "stream",
     "text": [
      "Calidad,Tipo Vino,Cluorudo\r\n",
      "Regular Malo,white,156782\r\n",
      "Regular Malo,red,105439\r\n",
      "Regular Bueno,white,36533\r\n",
      "Regular Bueno,red,15159\r\n",
      "Malo,white,7873\r\n",
      "Malo,red,4726\r\n",
      "Bueno,white,137\r\n",
      "\n"
     ]
    }
   ],
   "source": [
    "#export summary data from donutChart visual\n",
    "summarized_exported_data2 = report.export_visual_data(active_page_name, visual_name_donutChart, rows = 50)\n",
    "\n",
    "print(summarized_exported_data2)"
   ]
  },
  {
   "cell_type": "markdown",
   "id": "95575cfe",
   "metadata": {},
   "source": [
    "### 3.4 Exportar datos subyacentes desde un visual del informe incrustado"
   ]
  },
  {
   "cell_type": "code",
   "execution_count": 14,
   "id": "e44e7caa",
   "metadata": {},
   "outputs": [
    {
     "name": "stdout",
     "output_type": "stream",
     "text": [
      "Calidad,Tipo Vino,Volatilidad Acidez,quality\r\n",
      "Bueno,white,24,9\r\n",
      "Bueno,white,26,9\r\n",
      "Bueno,white,27,9\r\n",
      "Bueno,white,36,9\r\n",
      "Bueno,white,36,9\r\n",
      "\n"
     ]
    }
   ],
   "source": [
    "# Get visual whose type is 'columnChart'\n",
    "visual_columnChart = next(filter(lambda visual: visual['type'] == 'columnChart', visuals))\n",
    "visual_name_columnChart = visual_columnChart['name']\n",
    "\n",
    "\n",
    "#export underlying data from columnChart visual\n",
    "underlying_exported_data1 = report.export_visual_data(active_page_name, visual_name_columnChart, rows = 5, \n",
    "                                                      export_data_type = models.ExportDataType.UNDERLYING.value)\n",
    "\n",
    "print(underlying_exported_data1)"
   ]
  },
  {
   "cell_type": "code",
   "execution_count": 15,
   "id": "58f97014",
   "metadata": {},
   "outputs": [
    {
     "name": "stdout",
     "output_type": "stream",
     "text": [
      "Calidad,Tipo Vino,Cluorudo,quality\r\n",
      "Bueno,white,18,9\r\n",
      "Bueno,white,21,9\r\n",
      "Bueno,white,31,9\r\n",
      "Bueno,white,32,9\r\n",
      "Bueno,white,35,9\r\n",
      "\n"
     ]
    }
   ],
   "source": [
    "#export underlying data from donutChart visual\n",
    "underlying_exported_data2 = report.export_visual_data(active_page_name, visual_name_donutChart, rows = 5, export_data_type = models.ExportDataType.UNDERLYING.value)\n",
    "\n",
    "print(underlying_exported_data2)"
   ]
  },
  {
   "cell_type": "markdown",
   "id": "ed3211c0",
   "metadata": {},
   "source": [
    "### 3.5 Convierta los datos visuales exportados en CSV y cárguelos en el marco de datos de pandas"
   ]
  },
  {
   "cell_type": "code",
   "execution_count": 16,
   "id": "42b3cbb7",
   "metadata": {},
   "outputs": [
    {
     "data": {
      "text/html": [
       "<div>\n",
       "<style scoped>\n",
       "    .dataframe tbody tr th:only-of-type {\n",
       "        vertical-align: middle;\n",
       "    }\n",
       "\n",
       "    .dataframe tbody tr th {\n",
       "        vertical-align: top;\n",
       "    }\n",
       "\n",
       "    .dataframe thead th {\n",
       "        text-align: right;\n",
       "    }\n",
       "</style>\n",
       "<table border=\"1\" class=\"dataframe\">\n",
       "  <thead>\n",
       "    <tr style=\"text-align: right;\">\n",
       "      <th></th>\n",
       "      <th>Calidad</th>\n",
       "      <th>Tipo Vino</th>\n",
       "      <th>Volatilidad Acidez</th>\n",
       "    </tr>\n",
       "  </thead>\n",
       "  <tbody>\n",
       "    <tr>\n",
       "      <th>0</th>\n",
       "      <td>Regular Malo</td>\n",
       "      <td>red</td>\n",
       "      <td>165038</td>\n",
       "    </tr>\n",
       "    <tr>\n",
       "      <th>1</th>\n",
       "      <td>Regular Malo</td>\n",
       "      <td>white</td>\n",
       "      <td>129762</td>\n",
       "    </tr>\n",
       "    <tr>\n",
       "      <th>2</th>\n",
       "      <td>Regular Bueno</td>\n",
       "      <td>white</td>\n",
       "      <td>31130</td>\n",
       "    </tr>\n",
       "    <tr>\n",
       "      <th>3</th>\n",
       "      <td>Malo</td>\n",
       "      <td>red</td>\n",
       "      <td>17464</td>\n",
       "    </tr>\n",
       "    <tr>\n",
       "      <th>4</th>\n",
       "      <td>Regular Bueno</td>\n",
       "      <td>red</td>\n",
       "      <td>15460</td>\n",
       "    </tr>\n",
       "    <tr>\n",
       "      <th>5</th>\n",
       "      <td>Malo</td>\n",
       "      <td>white</td>\n",
       "      <td>11628</td>\n",
       "    </tr>\n",
       "    <tr>\n",
       "      <th>6</th>\n",
       "      <td>Bueno</td>\n",
       "      <td>white</td>\n",
       "      <td>149</td>\n",
       "    </tr>\n",
       "  </tbody>\n",
       "</table>\n",
       "</div>"
      ],
      "text/plain": [
       "         Calidad Tipo Vino  Volatilidad Acidez\n",
       "0   Regular Malo       red              165038\n",
       "1   Regular Malo     white              129762\n",
       "2  Regular Bueno     white               31130\n",
       "3           Malo       red               17464\n",
       "4  Regular Bueno       red               15460\n",
       "5           Malo     white               11628\n",
       "6          Bueno     white                 149"
      ]
     },
     "execution_count": 16,
     "metadata": {},
     "output_type": "execute_result"
    }
   ],
   "source": [
    "#transfer the visual data into an object in memory file\n",
    "data_visual = StringIO(summarized_exported_data1)\n",
    "\n",
    "#convert the object in memory file into a Pandas Dataframe\n",
    "df_data_visual = pd.read_csv(data_visual, sep=\",\")\n",
    "\n",
    "#check the information of the df\n",
    "df_data_visual.head(30)"
   ]
  },
  {
   "cell_type": "code",
   "execution_count": 17,
   "id": "55dc1854",
   "metadata": {},
   "outputs": [
    {
     "data": {
      "text/plain": [
       "Calidad               object\n",
       "Tipo Vino             object\n",
       "Volatilidad Acidez     int64\n",
       "dtype: object"
      ]
     },
     "execution_count": 17,
     "metadata": {},
     "output_type": "execute_result"
    }
   ],
   "source": [
    "df_data_visual.dtypes"
   ]
  },
  {
   "cell_type": "code",
   "execution_count": 18,
   "id": "0b14b847",
   "metadata": {},
   "outputs": [
    {
     "data": {
      "text/html": [
       "<div>\n",
       "<style scoped>\n",
       "    .dataframe tbody tr th:only-of-type {\n",
       "        vertical-align: middle;\n",
       "    }\n",
       "\n",
       "    .dataframe tbody tr th {\n",
       "        vertical-align: top;\n",
       "    }\n",
       "\n",
       "    .dataframe thead th {\n",
       "        text-align: right;\n",
       "    }\n",
       "</style>\n",
       "<table border=\"1\" class=\"dataframe\">\n",
       "  <thead>\n",
       "    <tr style=\"text-align: right;\">\n",
       "      <th></th>\n",
       "      <th>Volatilidad Acidez</th>\n",
       "    </tr>\n",
       "    <tr>\n",
       "      <th>Calidad</th>\n",
       "      <th></th>\n",
       "    </tr>\n",
       "  </thead>\n",
       "  <tbody>\n",
       "    <tr>\n",
       "      <th>Bueno</th>\n",
       "      <td>149.0</td>\n",
       "    </tr>\n",
       "    <tr>\n",
       "      <th>Malo</th>\n",
       "      <td>14546.0</td>\n",
       "    </tr>\n",
       "    <tr>\n",
       "      <th>Regular Bueno</th>\n",
       "      <td>23295.0</td>\n",
       "    </tr>\n",
       "    <tr>\n",
       "      <th>Regular Malo</th>\n",
       "      <td>147400.0</td>\n",
       "    </tr>\n",
       "  </tbody>\n",
       "</table>\n",
       "</div>"
      ],
      "text/plain": [
       "               Volatilidad Acidez\n",
       "Calidad                          \n",
       "Bueno                       149.0\n",
       "Malo                      14546.0\n",
       "Regular Bueno             23295.0\n",
       "Regular Malo             147400.0"
      ]
     },
     "execution_count": 18,
     "metadata": {},
     "output_type": "execute_result"
    }
   ],
   "source": [
    "df_data_visual_groypby=df_data_visual.groupby(['Calidad']).mean()\n",
    "\n",
    "df_data_visual_groypby.head(30)"
   ]
  },
  {
   "cell_type": "code",
   "execution_count": 19,
   "id": "39125cb6",
   "metadata": {},
   "outputs": [
    {
     "data": {
      "text/plain": [
       "Volatilidad Acidez    float64\n",
       "dtype: object"
      ]
     },
     "execution_count": 19,
     "metadata": {},
     "output_type": "execute_result"
    }
   ],
   "source": [
    "df_data_visual_groypby.dtypes"
   ]
  },
  {
   "cell_type": "markdown",
   "id": "4f3e8925",
   "metadata": {},
   "source": [
    "## 4 Interactuar con los datos extraídos del informe"
   ]
  },
  {
   "cell_type": "markdown",
   "id": "7e6022c8",
   "metadata": {},
   "source": [
    "### 4.1 Visualiza los datos\n",
    "\n",
    "Ahora podemos visualizar los datos con el diagrama del marco de datos."
   ]
  },
  {
   "cell_type": "code",
   "execution_count": 20,
   "id": "dd7f0705",
   "metadata": {},
   "outputs": [
    {
     "data": {
      "text/plain": [
       "<AxesSubplot:ylabel='Calidad'>"
      ]
     },
     "execution_count": 20,
     "metadata": {},
     "output_type": "execute_result"
    },
    {
     "data": {
      "image/png": "[encoded data removed]",
      "text/plain": [
       "<Figure size 360x720 with 1 Axes>"
      ]
     },
     "metadata": {
      "needs_background": "light"
     },
     "output_type": "display_data"
    }
   ],
   "source": [
    "#visualize the data using a bar chart\n",
    "\n",
    "df_data_visual_groypby.plot.barh(y=\"Volatilidad Acidez\",figsize=(5,10))"
   ]
  },
  {
   "cell_type": "markdown",
   "id": "866ab4a5",
   "metadata": {},
   "source": [
    "### 4.2 Cambiar el tipo de datos\n",
    "\n",
    "Podemos cambiar el tipo de datos de las columnas del gráfico de datos que exportamos"
   ]
  },
  {
   "cell_type": "code",
   "execution_count": 21,
   "id": "a6695800",
   "metadata": {},
   "outputs": [
    {
     "data": {
      "text/html": [
       "<div>\n",
       "<style scoped>\n",
       "    .dataframe tbody tr th:only-of-type {\n",
       "        vertical-align: middle;\n",
       "    }\n",
       "\n",
       "    .dataframe tbody tr th {\n",
       "        vertical-align: top;\n",
       "    }\n",
       "\n",
       "    .dataframe thead th {\n",
       "        text-align: right;\n",
       "    }\n",
       "</style>\n",
       "<table border=\"1\" class=\"dataframe\">\n",
       "  <thead>\n",
       "    <tr style=\"text-align: right;\">\n",
       "      <th></th>\n",
       "      <th>Calidad</th>\n",
       "      <th>Tipo Vino</th>\n",
       "      <th>Volatilidad Acidez</th>\n",
       "    </tr>\n",
       "  </thead>\n",
       "  <tbody>\n",
       "    <tr>\n",
       "      <th>0</th>\n",
       "      <td>Regular Malo</td>\n",
       "      <td>red</td>\n",
       "      <td>165038</td>\n",
       "    </tr>\n",
       "    <tr>\n",
       "      <th>1</th>\n",
       "      <td>Regular Malo</td>\n",
       "      <td>white</td>\n",
       "      <td>129762</td>\n",
       "    </tr>\n",
       "    <tr>\n",
       "      <th>2</th>\n",
       "      <td>Regular Bueno</td>\n",
       "      <td>white</td>\n",
       "      <td>31130</td>\n",
       "    </tr>\n",
       "    <tr>\n",
       "      <th>3</th>\n",
       "      <td>Malo</td>\n",
       "      <td>red</td>\n",
       "      <td>17464</td>\n",
       "    </tr>\n",
       "    <tr>\n",
       "      <th>4</th>\n",
       "      <td>Regular Bueno</td>\n",
       "      <td>red</td>\n",
       "      <td>15460</td>\n",
       "    </tr>\n",
       "    <tr>\n",
       "      <th>5</th>\n",
       "      <td>Malo</td>\n",
       "      <td>white</td>\n",
       "      <td>11628</td>\n",
       "    </tr>\n",
       "    <tr>\n",
       "      <th>6</th>\n",
       "      <td>Bueno</td>\n",
       "      <td>white</td>\n",
       "      <td>149</td>\n",
       "    </tr>\n",
       "  </tbody>\n",
       "</table>\n",
       "</div>"
      ],
      "text/plain": [
       "         Calidad Tipo Vino Volatilidad Acidez\n",
       "0   Regular Malo       red             165038\n",
       "1   Regular Malo     white             129762\n",
       "2  Regular Bueno     white              31130\n",
       "3           Malo       red              17464\n",
       "4  Regular Bueno       red              15460\n",
       "5           Malo     white              11628\n",
       "6          Bueno     white                149"
      ]
     },
     "execution_count": 21,
     "metadata": {},
     "output_type": "execute_result"
    }
   ],
   "source": [
    "#change the data type of the 'Privados' column from integer to string\n",
    "df_data_visual['Volatilidad Acidez']=df_data_visual['Volatilidad Acidez'].astype(str)\n",
    "\n",
    "df_data_visual"
   ]
  },
  {
   "cell_type": "code",
   "execution_count": 22,
   "id": "2c1159f6",
   "metadata": {},
   "outputs": [
    {
     "data": {
      "text/plain": [
       "Calidad               object\n",
       "Tipo Vino             object\n",
       "Volatilidad Acidez    object\n",
       "dtype: object"
      ]
     },
     "execution_count": 22,
     "metadata": {},
     "output_type": "execute_result"
    }
   ],
   "source": [
    "df_data_visual.dtypes"
   ]
  },
  {
   "cell_type": "markdown",
   "id": "fb9c8055",
   "metadata": {},
   "source": [
    "## ****** Fin del fichero! ******"
   ]
  }
 ],
 "metadata": {
  "kernelspec": {
   "display_name": "Python 3 (ipykernel)",
   "language": "python",
   "name": "python3"
  },
  "language_info": {
   "codemirror_mode": {
    "name": "ipython",
    "version": 3
   },
   "file_extension": ".py",
   "mimetype": "text/x-python",
   "name": "python",
   "nbconvert_exporter": "python",
   "pygments_lexer": "ipython3",
   "version": "3.10.4"
  }
 },
 "nbformat": 4,
 "nbformat_minor": 5
}
